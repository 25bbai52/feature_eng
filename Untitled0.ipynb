{
  "nbformat": 4,
  "nbformat_minor": 0,
  "metadata": {
    "colab": {
      "provenance": []
    },
    "kernelspec": {
      "name": "python3",
      "display_name": "Python 3"
    },
    "language_info": {
      "name": "python"
    }
  },
  "cells": [
    {
      "cell_type": "code",
      "execution_count": 1,
      "metadata": {
        "colab": {
          "base_uri": "https://localhost:8080/"
        },
        "id": "5xRUjelaACDC",
        "outputId": "2dc763f7-9266-43e2-d9bb-1083594655ce"
      },
      "outputs": [
        {
          "output_type": "stream",
          "name": "stdout",
          "text": [
            "   PassengerId Name Sex  Pclass  Survived   Fare Embarked\n",
            "0            1    A   M       3         0  71.23        S\n",
            "1            2    B   F       1         1   5.23        C\n",
            "2            3    C   M       2         2   4.67        Q\n",
            "3            4    D   F       3         3   7.88        S\n",
            "4            5    E   M       4         4   9.88        C\n",
            "5            6    F   F       5         5   9.77        Q\n",
            "6            7    G   M       6         6   8.88        S\n"
          ]
        }
      ],
      "source": [
        "import pandas as pd\n",
        "titanic_data ={\n",
        "    \"PassengerId\": [1,2,3,4,5,6,7],\n",
        "    \"Name\": [\"A\",\"B\",\"C\",\"D\",\"E\",\"F\",\"G\"],\n",
        "    \"Sex\": [\"M\",\"F\",\"M\",\"F\",\"M\",\"F\",\"M\"],\n",
        "    \"Pclass\": [3,1,2,3,4,5,6],\n",
        "    \"Survived\": [0,1,2,3,4,5,6],\n",
        "    \"Fare\": [71.23,5.23,4.67,7.88,9.88,9.77,8.88],\n",
        "    \"Embarked\": [\"S\",\"C\",\"Q\",\"S\",\"C\",\"Q\",\"S\"]\n",
        "}\n",
        "df = pd.DataFrame(titanic_data)\n",
        "print(df)"
      ]
    },
    {
      "cell_type": "code",
      "source": [
        "import pandas as pd\n",
        "print(df['Sex'].unique())"
      ],
      "metadata": {
        "colab": {
          "base_uri": "https://localhost:8080/"
        },
        "id": "j9HdoLZKANwK",
        "outputId": "a43b32e8-3b1e-4c06-f1e3-1165ee0a860e"
      },
      "execution_count": 8,
      "outputs": [
        {
          "output_type": "stream",
          "name": "stdout",
          "text": [
            "[0 1]\n"
          ]
        }
      ]
    },
    {
      "cell_type": "code",
      "source": [
        "df['Sex'] = df['Sex'].map({'M': 0, 'F': 1})\n",
        "df['Sex'].head()"
      ],
      "metadata": {
        "colab": {
          "base_uri": "https://localhost:8080/",
          "height": 241
        },
        "id": "zGESsM9EAcl8",
        "outputId": "38ba1f99-a8db-454c-d244-a0a19a0d2f09"
      },
      "execution_count": 2,
      "outputs": [
        {
          "output_type": "execute_result",
          "data": {
            "text/plain": [
              "0    0\n",
              "1    1\n",
              "2    0\n",
              "3    1\n",
              "4    0\n",
              "Name: Sex, dtype: int64"
            ],
            "text/html": [
              "<div>\n",
              "<style scoped>\n",
              "    .dataframe tbody tr th:only-of-type {\n",
              "        vertical-align: middle;\n",
              "    }\n",
              "\n",
              "    .dataframe tbody tr th {\n",
              "        vertical-align: top;\n",
              "    }\n",
              "\n",
              "    .dataframe thead th {\n",
              "        text-align: right;\n",
              "    }\n",
              "</style>\n",
              "<table border=\"1\" class=\"dataframe\">\n",
              "  <thead>\n",
              "    <tr style=\"text-align: right;\">\n",
              "      <th></th>\n",
              "      <th>Sex</th>\n",
              "    </tr>\n",
              "  </thead>\n",
              "  <tbody>\n",
              "    <tr>\n",
              "      <th>0</th>\n",
              "      <td>0</td>\n",
              "    </tr>\n",
              "    <tr>\n",
              "      <th>1</th>\n",
              "      <td>1</td>\n",
              "    </tr>\n",
              "    <tr>\n",
              "      <th>2</th>\n",
              "      <td>0</td>\n",
              "    </tr>\n",
              "    <tr>\n",
              "      <th>3</th>\n",
              "      <td>1</td>\n",
              "    </tr>\n",
              "    <tr>\n",
              "      <th>4</th>\n",
              "      <td>0</td>\n",
              "    </tr>\n",
              "  </tbody>\n",
              "</table>\n",
              "</div><br><label><b>dtype:</b> int64</label>"
            ]
          },
          "metadata": {},
          "execution_count": 2
        }
      ]
    },
    {
      "cell_type": "code",
      "source": [
        "#one-hot encoding (creating dummy variable) :explanation:it converts each category into a separate binary column(0,1).useful when  categorical variable has more than 2 categories ,like embarked (c,q,s)eg:encoding the embarked column\n",
        "df_encoded=pd.get_dummies(df,columns=['Embarked'],dtype=int)\n",
        "print(df_encoded.head())"
      ],
      "metadata": {
        "colab": {
          "base_uri": "https://localhost:8080/"
        },
        "id": "rAvX3T41Axjq",
        "outputId": "a9d49a23-27c6-4949-b0d3-9ef0567ab675"
      },
      "execution_count": 5,
      "outputs": [
        {
          "output_type": "stream",
          "name": "stdout",
          "text": [
            "   PassengerId Name  Sex  Pclass  Survived   Fare  Embarked_C  Embarked_Q  \\\n",
            "0            1    A    0       3         0  71.23           0           0   \n",
            "1            2    B    1       1         1   5.23           1           0   \n",
            "2            3    C    0       2         2   4.67           0           1   \n",
            "3            4    D    1       3         3   7.88           0           0   \n",
            "4            5    E    0       4         4   9.88           1           0   \n",
            "\n",
            "   Embarked_S  \n",
            "0           1  \n",
            "1           0  \n",
            "2           0  \n",
            "3           1  \n",
            "4           0  \n"
          ]
        }
      ]
    },
    {
      "cell_type": "code",
      "source": [
        "import pandas as pd\n",
        "from sklearn.preprocessing import MinMaxScaler"
      ],
      "metadata": {
        "id": "Hk4tHXTnBC15"
      },
      "execution_count": 9,
      "outputs": []
    },
    {
      "cell_type": "code",
      "source": [
        "data = pd.DataFrame({'Profit':[200,500,1000,1500,3000]})"
      ],
      "metadata": {
        "id": "psUao_zNBNuJ"
      },
      "execution_count": 10,
      "outputs": []
    },
    {
      "cell_type": "code",
      "source": [
        "import pandas as pd\n",
        "from sklearn.preprocessing import MinMaxScaler\n",
        "data=pd.DataFrame({'profit':[200,500,1000,1500,3000]})\n",
        "scaler=MinMaxScaler()\n",
        "data['profit_normalized']=scaler.fit_transform(data[['profit']])\n",
        "print(data)"
      ],
      "metadata": {
        "colab": {
          "base_uri": "https://localhost:8080/"
        },
        "id": "gyLlg636BO1U",
        "outputId": "9ff52441-b569-473f-ca43-2120fd858151"
      },
      "execution_count": 11,
      "outputs": [
        {
          "output_type": "stream",
          "name": "stdout",
          "text": [
            "   profit  profit_normalized\n",
            "0     200           0.000000\n",
            "1     500           0.107143\n",
            "2    1000           0.285714\n",
            "3    1500           0.464286\n",
            "4    3000           1.000000\n"
          ]
        }
      ]
    },
    {
      "cell_type": "code",
      "source": [
        "import numpy as np\n",
        "data=pd.DataFrame({'Sales':[1000,2000,3000,4000,5000]})\n",
        "data['log_sales']=np.log(data['Sales'])\n",
        "print(data)"
      ],
      "metadata": {
        "colab": {
          "base_uri": "https://localhost:8080/"
        },
        "id": "Wx1likK8BSb4",
        "outputId": "a33105c2-6ac3-4ac3-e644-f3c310bd13c5"
      },
      "execution_count": 12,
      "outputs": [
        {
          "output_type": "stream",
          "name": "stdout",
          "text": [
            "   Sales  log_sales\n",
            "0   1000   6.907755\n",
            "1   2000   7.600902\n",
            "2   3000   8.006368\n",
            "3   4000   8.294050\n",
            "4   5000   8.517193\n"
          ]
        }
      ]
    }
  ]
}